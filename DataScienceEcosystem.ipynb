{
 "cells": [
  {
   "cell_type": "markdown",
   "id": "20a7cbbc-db66-47e0-a45d-22bf803eb100",
   "metadata": {},
   "source": [
    "# Data Science Tools and Ecosystem"
   ]
  },
  {
   "cell_type": "markdown",
   "id": "5576b1ba-4516-4e31-af92-67187ebf411b",
   "metadata": {
    "tags": []
   },
   "source": [
    "## In this notebook, Data Science Tool and Ecosystem are summarized"
   ]
  },
  {
   "cell_type": "markdown",
   "id": "916ed183-ff44-4e11-b5cc-24be1ee436c2",
   "metadata": {},
   "source": [
    "**Objectives:**\n",
    "\n",
    "* List Popular languajes for DataScience\n",
    "* List Some of the commonly used libraries used by Data Scientist\n",
    "* List Some of the Open Source Data Science Tools\n"
   ]
  },
  {
   "cell_type": "markdown",
   "id": "a702c686-00ec-4339-b247-b919c211e8b5",
   "metadata": {},
   "source": [
    "### Some of the popular languages that Data Scientists use are:\n",
    "\n",
    "1. Python\n",
    "2. R\n",
    "3. Julia\n",
    "4. SQL\n",
    "5. Scala\n",
    "6. Matlab\n"
   ]
  },
  {
   "cell_type": "markdown",
   "id": "14945b0b-5a9a-4875-b361-b05163e46000",
   "metadata": {},
   "source": [
    "### Some of the commonly used libraries used by Data Scientists include:\n",
    "\n",
    "1. NumPy\n",
    "2. Pandas\n",
    "3. Matplotlib\n",
    "4. Seaborn\n",
    "5. Scikit-learn\n",
    "6. TensorFlow/PyTorch\n",
    "7. SciPy\n",
    "8. Statsmodels"
   ]
  },
  {
   "cell_type": "markdown",
   "id": "37ae157c-214e-48aa-a681-888b8f157c1b",
   "metadata": {},
   "source": [
    "|Data Science Tools|\n",
    "---------------------\n",
    "|Jupyter Notebook  |\n",
    "|RStudio           |\n",
    "|Apache Hadoop     |"
   ]
  },
  {
   "cell_type": "markdown",
   "id": "c74b03de-6c62-4699-b2ed-ce7e9e8573e9",
   "metadata": {},
   "source": [
    "### Below are a few examples of evaluation arithmetic expressions in Python"
   ]
  },
  {
   "cell_type": "markdown",
   "id": "0777df99-fce7-48c9-a134-1fbe0d0913da",
   "metadata": {},
   "source": [
    "#### This is a simple arithmetic expression to multiply  then add integers."
   ]
  },
  {
   "cell_type": "code",
   "execution_count": 1,
   "id": "58ce1968-6aca-4998-971e-a2e33145ee75",
   "metadata": {
    "tags": []
   },
   "outputs": [
    {
     "data": {
      "text/plain": [
       "17"
      ]
     },
     "execution_count": 1,
     "metadata": {},
     "output_type": "execute_result"
    }
   ],
   "source": [
    "(3*4)+5"
   ]
  },
  {
   "cell_type": "markdown",
   "id": "5bc17acc-f547-47fc-81be-5e595ee18c1a",
   "metadata": {},
   "source": [
    "#### This will convert 200 minutes to hours by diving by 60"
   ]
  },
  {
   "cell_type": "code",
   "execution_count": 2,
   "id": "072126cd-72e2-4936-9400-4146ad8335c0",
   "metadata": {
    "tags": []
   },
   "outputs": [
    {
     "data": {
      "text/plain": [
       "3.3333333333333335"
      ]
     },
     "execution_count": 2,
     "metadata": {},
     "output_type": "execute_result"
    }
   ],
   "source": [
    "200/60"
   ]
  },
  {
   "cell_type": "markdown",
   "id": "f0422890-19e3-44cf-a425-20fe8f21f1eb",
   "metadata": {},
   "source": [
    "## Author\n",
    "Paula Vazquez"
   ]
  },
  {
   "cell_type": "code",
   "execution_count": null,
   "id": "9f93b46b-abd0-40ff-a949-88debda0ba2b",
   "metadata": {},
   "outputs": [],
   "source": []
  }
 ],
 "metadata": {
  "kernelspec": {
   "display_name": "Python",
   "language": "python",
   "name": "conda-env-python-py"
  },
  "language_info": {
   "codemirror_mode": {
    "name": "ipython",
    "version": 3
   },
   "file_extension": ".py",
   "mimetype": "text/x-python",
   "name": "python",
   "nbconvert_exporter": "python",
   "pygments_lexer": "ipython3",
   "version": "3.7.12"
  }
 },
 "nbformat": 4,
 "nbformat_minor": 5
}
